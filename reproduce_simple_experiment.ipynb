{
  "nbformat": 4,
  "nbformat_minor": 0,
  "metadata": {
    "colab": {
      "name": "reproduce_simple_experiment.ipynb",
      "version": "0.3.2",
      "provenance": [],
      "collapsed_sections": [],
      "include_colab_link": true
    },
    "kernelspec": {
      "name": "python3",
      "display_name": "Python 3"
    }
  },
  "cells": [
    {
      "cell_type": "markdown",
      "metadata": {
        "id": "view-in-github",
        "colab_type": "text"
      },
      "source": [
        "<a href=\"https://colab.research.google.com/github/Ori226/EEG_VAE/blob/master/reproduce_simple_experiment.ipynb\" target=\"_parent\"><img src=\"https://colab.research.google.com/assets/colab-badge.svg\" alt=\"Open In Colab\"/></a>"
      ]
    },
    {
      "metadata": {
        "id": "xc-iQx60OtsQ",
        "colab_type": "code",
        "colab": {}
      },
      "cell_type": "code",
      "source": [
        "import numpy as np\n"
      ],
      "execution_count": 0,
      "outputs": []
    },
    {
      "metadata": {
        "id": "0tX358hrO-SO",
        "colab_type": "code",
        "colab": {
          "base_uri": "https://localhost:8080/",
          "height": 67
        },
        "outputId": "b6a80c0a-ca85-44a7-859f-08991747a234"
      },
      "cell_type": "code",
      "source": [
        "np.random.seed(42)\n",
        "def genrate_single_sample(max_length=10):\n",
        "  binary_vecotr_selection =np.zeros(max_length,dtype=np.bool)\n",
        "  \n",
        "  binary_vecotr_selection[np.random.choice(np.arange(max_length),size=2,replace=False)] = 1\n",
        "  continues_vector = np.random.rand(10)\n",
        "  print(binary_vecotr_selection,continues_vector)\n",
        "  final_answer = continues_vector[[binary_vecotr_selection]].sum()\n",
        "  return binary_vecotr_selection, continues_vector ,final_answer\n",
        "\n",
        "\n",
        "def generate_multiple_samples(number_of_samples):\n",
        "  \n",
        "  for i in range(number_of_samples)\n",
        "  \n",
        "genrate_single_sample()"
      ],
      "execution_count": 13,
      "outputs": [
        {
          "output_type": "stream",
          "text": [
            "[False  True False False False False False False  True False] [0.15599452 0.05808361 0.86617615 0.60111501 0.70807258 0.02058449\n",
            " 0.96990985 0.83244264 0.21233911 0.18182497]\n"
          ],
          "name": "stdout"
        },
        {
          "output_type": "execute_result",
          "data": {
            "text/plain": [
              "0.2704227228464756"
            ]
          },
          "metadata": {
            "tags": []
          },
          "execution_count": 13
        }
      ]
    },
    {
      "metadata": {
        "id": "pxoRTyGoQCGg",
        "colab_type": "code",
        "colab": {
          "base_uri": "https://localhost:8080/",
          "height": 34
        },
        "outputId": "7921d0a9-e04e-4ea7-bc57-f1440ee4f2c9"
      },
      "cell_type": "code",
      "source": [
        "0.05808361  + 0.21233911"
      ],
      "execution_count": 12,
      "outputs": [
        {
          "output_type": "execute_result",
          "data": {
            "text/plain": [
              "0.27042272"
            ]
          },
          "metadata": {
            "tags": []
          },
          "execution_count": 12
        }
      ]
    },
    {
      "metadata": {
        "id": "x14wmnFsRle3",
        "colab_type": "code",
        "colab": {}
      },
      "cell_type": "code",
      "source": [
        ""
      ],
      "execution_count": 0,
      "outputs": []
    }
  ]
}