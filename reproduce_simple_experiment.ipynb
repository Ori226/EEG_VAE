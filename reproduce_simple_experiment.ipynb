{
  "nbformat": 4,
  "nbformat_minor": 0,
  "metadata": {
    "colab": {
      "name": "reproduce_simple_experiment.ipynb",
      "version": "0.3.2",
      "provenance": [],
      "collapsed_sections": [],
      "include_colab_link": true
    },
    "kernelspec": {
      "name": "python3",
      "display_name": "Python 3"
    },
    "accelerator": "TPU"
  },
  "cells": [
    {
      "cell_type": "markdown",
      "metadata": {
        "id": "view-in-github",
        "colab_type": "text"
      },
      "source": [
        "<a href=\"https://colab.research.google.com/github/Ori226/EEG_VAE/blob/master/reproduce_simple_experiment.ipynb\" target=\"_parent\"><img src=\"https://colab.research.google.com/assets/colab-badge.svg\" alt=\"Open In Colab\"/></a>"
      ]
    },
    {
      "metadata": {
        "id": "xc-iQx60OtsQ",
        "colab_type": "code",
        "colab": {}
      },
      "cell_type": "code",
      "source": [
        "import numpy as np\n"
      ],
      "execution_count": 0,
      "outputs": []
    },
    {
      "metadata": {
        "id": "0tX358hrO-SO",
        "colab_type": "code",
        "colab": {}
      },
      "cell_type": "code",
      "source": [
        "np.random.seed(42)\n",
        "def genrate_single_sample(max_length=10):\n",
        "  binary_vecotr_selection =np.zeros(max_length,dtype=np.bool)\n",
        "  \n",
        "  binary_vecotr_selection[np.random.choice(np.arange(max_length),size=2,replace=False)] = 1\n",
        "  continues_vector = np.random.rand(10)\n",
        "  final_answer = continues_vector[[binary_vecotr_selection]].sum()\n",
        "  return binary_vecotr_selection, continues_vector ,final_answer\n",
        "\n",
        "\n",
        "def generate_multiple_samples(number_of_samples):\n",
        "  bianries_vectors = []\n",
        "  continues_vectors = [] \n",
        "  final_answers = []\n",
        "  \n",
        "  for i in range(number_of_samples):\n",
        "    binary_vecotr_selection, continues_vector ,final_answer = genrate_single_sample()\n",
        "    bianries_vectors.append(binary_vecotr_selection)\n",
        "    continues_vectors.append(continues_vector)\n",
        "    final_answers.append(final_answer)\n",
        "  return bianries_vectors, continues_vectors, final_answers\n",
        "    \n",
        "    \n",
        "    \n",
        "    \n",
        "  \n"
      ],
      "execution_count": 0,
      "outputs": []
    },
    {
      "metadata": {
        "id": "oTSzEkjFamHw",
        "colab_type": "code",
        "colab": {
          "base_uri": "https://localhost:8080/",
          "height": 34
        },
        "outputId": "3b6befc6-cbe7-468c-a484-9ff923a0872b"
      },
      "cell_type": "code",
      "source": [
        "bianries_vectors, continues_vectors, final_answers = generate_multiple_samples(number_of_samples=1000)\n",
        "X = np.stack([np.vstack([c_v, b_v]).T for c_v, b_v  in zip(continues_vectors, bianries_vectors)])\n",
        "y = np.stack(final_answers)\n",
        "print(\"X shape:\",X.shape, \" y shape: \",y.shape)\n"
      ],
      "execution_count": 3,
      "outputs": [
        {
          "output_type": "stream",
          "text": [
            "X shape: (1000, 10, 2)  y shape:  (1000,)\n"
          ],
          "name": "stdout"
        }
      ]
    },
    {
      "metadata": {
        "id": "pxoRTyGoQCGg",
        "colab_type": "code",
        "colab": {
          "base_uri": "https://localhost:8080/",
          "height": 2537
        },
        "outputId": "998020e0-2eab-4897-f5d6-1441d46752a9"
      },
      "cell_type": "code",
      "source": [
        "# transfrom the 3 list into <X,y> list\n",
        "generate_multiple_samples(number_of_samples=30)"
      ],
      "execution_count": 4,
      "outputs": [
        {
          "output_type": "execute_result",
          "data": {
            "text/plain": [
              "([array([ True, False, False,  True, False, False, False, False, False,\n",
              "         False]),\n",
              "  array([False, False,  True, False, False, False, False,  True, False,\n",
              "         False]),\n",
              "  array([False, False, False,  True, False, False, False,  True, False,\n",
              "         False]),\n",
              "  array([ True, False, False, False, False, False, False, False,  True,\n",
              "         False]),\n",
              "  array([ True, False,  True, False, False, False, False, False, False,\n",
              "         False]),\n",
              "  array([ True, False,  True, False, False, False, False, False, False,\n",
              "         False]),\n",
              "  array([ True, False, False, False, False, False, False, False, False,\n",
              "          True]),\n",
              "  array([False, False, False, False,  True, False,  True, False, False,\n",
              "         False]),\n",
              "  array([False, False, False, False,  True, False,  True, False, False,\n",
              "         False]),\n",
              "  array([ True, False, False, False,  True, False, False, False, False,\n",
              "         False]),\n",
              "  array([False, False, False,  True, False, False,  True, False, False,\n",
              "         False]),\n",
              "  array([ True, False, False, False, False, False, False, False,  True,\n",
              "         False]),\n",
              "  array([False, False,  True,  True, False, False, False, False, False,\n",
              "         False]),\n",
              "  array([ True, False, False, False, False,  True, False, False, False,\n",
              "         False]),\n",
              "  array([False,  True,  True, False, False, False, False, False, False,\n",
              "         False]),\n",
              "  array([False, False, False, False, False,  True, False,  True, False,\n",
              "         False]),\n",
              "  array([False, False, False, False,  True, False, False, False, False,\n",
              "          True]),\n",
              "  array([ True, False, False, False, False,  True, False, False, False,\n",
              "         False]),\n",
              "  array([False, False,  True, False,  True, False, False, False, False,\n",
              "         False]),\n",
              "  array([False, False, False, False, False,  True, False, False, False,\n",
              "          True]),\n",
              "  array([False,  True, False, False, False, False, False,  True, False,\n",
              "         False]),\n",
              "  array([False, False,  True,  True, False, False, False, False, False,\n",
              "         False]),\n",
              "  array([ True, False, False, False, False,  True, False, False, False,\n",
              "         False]),\n",
              "  array([False, False, False, False, False,  True, False,  True, False,\n",
              "         False]),\n",
              "  array([ True, False, False, False, False, False, False, False,  True,\n",
              "         False]),\n",
              "  array([False, False, False, False, False, False, False,  True, False,\n",
              "          True]),\n",
              "  array([False, False, False, False,  True,  True, False, False, False,\n",
              "         False]),\n",
              "  array([False,  True, False, False, False, False, False, False, False,\n",
              "          True]),\n",
              "  array([False, False, False, False, False, False, False, False,  True,\n",
              "          True]),\n",
              "  array([False, False, False, False,  True, False, False, False,  True,\n",
              "         False])],\n",
              " [array([0.04106637, 0.07153882, 0.32505152, 0.23277968, 0.26493089,\n",
              "         0.22127   , 0.19582505, 0.13062397, 0.93395413, 0.14418946]),\n",
              "  array([0.83630988, 0.40819308, 0.26282303, 0.57575008, 0.82218291,\n",
              "         0.77865215, 0.88999748, 0.92813219, 0.23812207, 0.42385789]),\n",
              "  array([0.49369085, 0.14329834, 0.13484636, 0.25631271, 0.97350718,\n",
              "         0.38011686, 0.56599484, 0.7042914 , 0.74222184, 0.68804097]),\n",
              "  array([0.4914913 , 0.77198907, 0.94824454, 0.11580489, 0.33466501,\n",
              "         0.31954906, 0.15118292, 0.81030314, 0.7598787 , 0.48442547]),\n",
              "  array([0.66754827, 0.36148843, 0.54487328, 0.48756536, 0.381175  ,\n",
              "         0.71887798, 0.88387611, 0.00521252, 0.93361652, 0.51151514]),\n",
              "  array([0.15916753, 0.65747137, 0.87014301, 0.89242618, 0.64374046,\n",
              "         0.52548923, 0.33139309, 0.98000042, 0.31969569, 0.74418611]),\n",
              "  array([0.63116521, 0.56834725, 0.89031249, 0.75124403, 0.96526187,\n",
              "         0.96003254, 0.22568509, 0.72535087, 0.53052309, 0.214602  ]),\n",
              "  array([0.39143602, 0.98992149, 0.20788587, 0.54477962, 0.98731555,\n",
              "         0.79201921, 0.9933675 , 0.96829831, 0.48953954, 0.69637585]),\n",
              "  array([0.65252632, 0.16346794, 0.25573233, 0.24737582, 0.96006698,\n",
              "         0.06752819, 0.42876151, 0.87125391, 0.76946599, 0.82244212]),\n",
              "  array([0.89544531, 0.03546959, 0.86318735, 0.35996152, 0.63933876,\n",
              "         0.92219972, 0.15170662, 0.56695048, 0.76443286, 0.75758383]),\n",
              "  array([0.35400494, 0.9967264 , 0.43450269, 0.0244647 , 0.36261695,\n",
              "         0.12778295, 0.12144262, 0.28153504, 0.05337549, 0.68851219]),\n",
              "  array([0.08492034, 0.62071086, 0.88208548, 0.35139289, 0.55266854,\n",
              "         0.6421338 , 0.41465018, 0.90334785, 0.36275516, 0.12501082]),\n",
              "  array([0.70952806, 0.61240291, 0.95110818, 0.81777788, 0.86897217,\n",
              "         0.54166716, 0.32727519, 0.70173601, 0.43905304, 0.28775424]),\n",
              "  array([0.56998732, 0.16841411, 0.66371417, 0.429384  , 0.84878859,\n",
              "         0.77826574, 0.72438205, 0.7007371 , 0.56048804, 0.06111358]),\n",
              "  array([0.29707696, 0.23406249, 0.83011691, 0.67955186, 0.23617198,\n",
              "         0.37699383, 0.50671176, 0.52814006, 0.88872773, 0.38056613]),\n",
              "  array([0.45151184, 0.11159702, 0.68581517, 0.30615929, 0.14858743,\n",
              "         0.42282336, 0.96422228, 0.41143058, 0.34733377, 0.44450896]),\n",
              "  array([0.96633343, 0.15658138, 0.18630962, 0.92681635, 0.70568765,\n",
              "         0.15196669, 0.39349267, 0.05626994, 0.43267153, 0.77790149]),\n",
              "  array([0.63665456, 0.22932124, 0.41843396, 0.80144327, 0.53870019,\n",
              "         0.30015988, 0.26718452, 0.21761402, 0.82372988, 0.58186035]),\n",
              "  array([0.90956894, 0.44966166, 0.28042986, 0.14083343, 0.68376482,\n",
              "         0.31223184, 0.90953857, 0.67101247, 0.64568533, 0.55940212]),\n",
              "  array([0.53970552, 0.14868887, 0.34864448, 0.58374023, 0.87063235,\n",
              "         0.26867505, 0.12122687, 0.55883232, 0.17650122, 0.61036177]),\n",
              "  array([0.10150386, 0.49774682, 0.42804779, 0.32602345, 0.64553399,\n",
              "         0.13105574, 0.71666242, 0.98059212, 0.80455871, 0.86001675]),\n",
              "  array([0.24232023, 0.47151637, 0.93807936, 0.78918065, 0.96451524,\n",
              "         0.60833026, 0.33378685, 0.82664978, 0.29145627, 0.1647728 ]),\n",
              "  array([0.0600218 , 0.66451343, 0.78473241, 0.98192872, 0.3746613 ,\n",
              "         0.16988159, 0.85293306, 0.31746674, 0.5982019 , 0.38989476]),\n",
              "  array([0.32464739, 0.31904403, 0.74883529, 0.31455712, 0.63332713,\n",
              "         0.6885244 , 0.65842554, 0.60329368, 0.41361685, 0.37330498]),\n",
              "  array([0.56681912, 0.9322277 , 0.2716368 , 0.74245527, 0.08273181,\n",
              "         0.52337215, 0.88396913, 0.55170928, 0.61625283, 0.90763929]),\n",
              "  array([0.99278702, 0.6225909 , 0.03577469, 0.01729398, 0.32036197,\n",
              "         0.19578381, 0.81305121, 0.84480567, 0.25861877, 0.32564478]),\n",
              "  array([0.63101419, 0.38585538, 0.33967844, 0.63448007, 0.59106208,\n",
              "         0.29352795, 0.14934845, 0.36857669, 0.41519764, 0.62868433]),\n",
              "  array([0.72903762, 0.24241591, 0.59449837, 0.88385726, 0.91067774,\n",
              "         0.9587846 , 0.77326115, 0.90598791, 0.23453087, 0.19758094]),\n",
              "  array([0.92617404, 0.10202989, 0.60116254, 0.30217673, 0.88932778,\n",
              "         0.76516961, 0.36970272, 0.16710316, 0.01149797, 0.62113445]),\n",
              "  array([0.0160364 , 0.56244894, 0.12376067, 0.08004132, 0.75549907,\n",
              "         0.0095062 , 0.95900844, 0.51525536, 0.98301643, 0.05799757])],\n",
              " [0.2738460581840906,\n",
              "  1.1909552122278326,\n",
              "  0.9606041156425922,\n",
              "  1.2513700062983126,\n",
              "  1.2124215566200724,\n",
              "  1.0293105400315516,\n",
              "  0.8457672059143763,\n",
              "  1.9806830500807175,\n",
              "  1.388828490883141,\n",
              "  1.5347840772681138,\n",
              "  0.14590731848730842,\n",
              "  0.44767550022439073,\n",
              "  1.7688860660542407,\n",
              "  1.348253064332522,\n",
              "  1.0641794038801975,\n",
              "  0.8342539392770509,\n",
              "  1.4835891409394195,\n",
              "  0.9368144357917662,\n",
              "  0.9641946863513813,\n",
              "  0.8790368151868063,\n",
              "  1.4783389407611633,\n",
              "  1.727260015715565,\n",
              "  0.22990338485941864,\n",
              "  1.2918180831565294,\n",
              "  1.1830719502227325,\n",
              "  1.1704504439858932,\n",
              "  0.8845900322169389,\n",
              "  0.43999685689534085,\n",
              "  0.6326324230692465,\n",
              "  1.7385154994029355])"
            ]
          },
          "metadata": {
            "tags": []
          },
          "execution_count": 4
        }
      ]
    },
    {
      "metadata": {
        "id": "x14wmnFsRle3",
        "colab_type": "code",
        "colab": {
          "base_uri": "https://localhost:8080/",
          "height": 1058
        },
        "outputId": "2dfd4eea-61f9-4fc0-f83b-a1e56a0978dd"
      },
      "cell_type": "code",
      "source": [
        "# first attemp: build a simple feed forward network\n",
        "\n",
        "\n",
        "import keras\n",
        "from keras import Input\n",
        "from keras import Model\n",
        "from keras.layers import Dense, Activation,Flatten\n",
        "max_timestamp = 10\n",
        "input_layer = Input(shape=(max_timestamp,2))\n",
        "x = Flatten()(input_layer)\n",
        "x = Dense(128)(x)\n",
        "x = Activation(activation='relu')(x)\n",
        "x = Dense(64)(x)\n",
        "x = Activation(activation='relu')(x)\n",
        "x = Dense(1)(x)\n",
        "x = Activation(activation='relu')(x)\n",
        "model = Model(input_layer, x)\n",
        "model.compile(loss='mse',optimizer='rmsprop')\n",
        "\n",
        "model.fit(X,y, verbose=1,epochs=30)\n",
        "\n"
      ],
      "execution_count": 5,
      "outputs": [
        {
          "output_type": "stream",
          "text": [
            "Using TensorFlow backend.\n"
          ],
          "name": "stderr"
        },
        {
          "output_type": "stream",
          "text": [
            "Epoch 1/30\n",
            "1000/1000 [==============================] - 1s 581us/step - loss: 0.6610\n",
            "Epoch 2/30\n",
            "1000/1000 [==============================] - 0s 53us/step - loss: 0.1461\n",
            "Epoch 3/30\n",
            "1000/1000 [==============================] - 0s 51us/step - loss: 0.1205\n",
            "Epoch 4/30\n",
            "1000/1000 [==============================] - 0s 46us/step - loss: 0.0998\n",
            "Epoch 5/30\n",
            "1000/1000 [==============================] - 0s 50us/step - loss: 0.0791\n",
            "Epoch 6/30\n",
            "1000/1000 [==============================] - 0s 45us/step - loss: 0.0671\n",
            "Epoch 7/30\n",
            "1000/1000 [==============================] - 0s 54us/step - loss: 0.0583\n",
            "Epoch 8/30\n",
            "1000/1000 [==============================] - 0s 48us/step - loss: 0.0456\n",
            "Epoch 9/30\n",
            "1000/1000 [==============================] - 0s 48us/step - loss: 0.0380\n",
            "Epoch 10/30\n",
            "1000/1000 [==============================] - 0s 60us/step - loss: 0.0338\n",
            "Epoch 11/30\n",
            "1000/1000 [==============================] - 0s 55us/step - loss: 0.0321\n",
            "Epoch 12/30\n",
            "1000/1000 [==============================] - 0s 50us/step - loss: 0.0258\n",
            "Epoch 13/30\n",
            "1000/1000 [==============================] - 0s 46us/step - loss: 0.0262\n",
            "Epoch 14/30\n",
            "1000/1000 [==============================] - 0s 41us/step - loss: 0.0210\n",
            "Epoch 15/30\n",
            "1000/1000 [==============================] - 0s 46us/step - loss: 0.0224\n",
            "Epoch 16/30\n",
            "1000/1000 [==============================] - 0s 43us/step - loss: 0.0197\n",
            "Epoch 17/30\n",
            "1000/1000 [==============================] - 0s 41us/step - loss: 0.0189\n",
            "Epoch 18/30\n",
            "1000/1000 [==============================] - 0s 40us/step - loss: 0.0194\n",
            "Epoch 19/30\n",
            "1000/1000 [==============================] - 0s 40us/step - loss: 0.0180\n",
            "Epoch 20/30\n",
            "1000/1000 [==============================] - 0s 46us/step - loss: 0.0163\n",
            "Epoch 21/30\n",
            "1000/1000 [==============================] - 0s 52us/step - loss: 0.0152\n",
            "Epoch 22/30\n",
            "1000/1000 [==============================] - 0s 45us/step - loss: 0.0163\n",
            "Epoch 23/30\n",
            "1000/1000 [==============================] - 0s 40us/step - loss: 0.0144\n",
            "Epoch 24/30\n",
            "1000/1000 [==============================] - 0s 43us/step - loss: 0.0157\n",
            "Epoch 25/30\n",
            "1000/1000 [==============================] - 0s 40us/step - loss: 0.0140\n",
            "Epoch 26/30\n",
            "1000/1000 [==============================] - 0s 57us/step - loss: 0.0151\n",
            "Epoch 27/30\n",
            "1000/1000 [==============================] - 0s 45us/step - loss: 0.0133\n",
            "Epoch 28/30\n",
            "1000/1000 [==============================] - 0s 47us/step - loss: 0.0131\n",
            "Epoch 29/30\n",
            "1000/1000 [==============================] - 0s 48us/step - loss: 0.0113\n",
            "Epoch 30/30\n",
            "1000/1000 [==============================] - 0s 39us/step - loss: 0.0143\n"
          ],
          "name": "stdout"
        },
        {
          "output_type": "execute_result",
          "data": {
            "text/plain": [
              "<keras.callbacks.History at 0x7fcbc23cb630>"
            ]
          },
          "metadata": {
            "tags": []
          },
          "execution_count": 5
        }
      ]
    },
    {
      "metadata": {
        "id": "1YZlSLO2Wa5P",
        "colab_type": "text"
      },
      "cell_type": "markdown",
      "source": [
        "the inpute will be in the form of:\n",
        "(batch_size, timesteps, input_dim) => (samples, timesteps, input_dim=2)"
      ]
    },
    {
      "metadata": {
        "id": "A9SwIkn5cTDD",
        "colab_type": "code",
        "colab": {}
      },
      "cell_type": "code",
      "source": [
        "\n",
        "\n",
        "test_bianries_vectors, test_continues_vectors, test_final_answers = generate_multiple_samples(number_of_samples=30)\n",
        "X_test = np.stack([np.vstack([c_v, b_v]).T for c_v, b_v  in zip(test_continues_vectors, test_bianries_vectors)])\n",
        "y_test = np.stack(test_final_answers)"
      ],
      "execution_count": 0,
      "outputs": []
    },
    {
      "metadata": {
        "id": "3yFwURXDWOWN",
        "colab_type": "code",
        "colab": {}
      },
      "cell_type": "code",
      "source": [
        "prediction_res_on_test = model.predict(X_test)"
      ],
      "execution_count": 0,
      "outputs": []
    },
    {
      "metadata": {
        "id": "i9OpVMAXcrss",
        "colab_type": "code",
        "colab": {
          "base_uri": "https://localhost:8080/",
          "height": 364
        },
        "outputId": "450c3c0e-35b8-44e5-be0f-e353a3a03a3b"
      },
      "cell_type": "code",
      "source": [
        "import matplotlib.pyplot as plt\n",
        "\n",
        "plt.plot(y_test-  prediction_res_on_test.flatten())"
      ],
      "execution_count": 14,
      "outputs": [
        {
          "output_type": "execute_result",
          "data": {
            "text/plain": [
              "[<matplotlib.lines.Line2D at 0x7fcbbefdd8d0>]"
            ]
          },
          "metadata": {
            "tags": []
          },
          "execution_count": 14
        },
        {
          "output_type": "display_data",
          "data": {
            "image/png": "[encoded data removed]",
            "text/plain": [
              "<matplotlib.figure.Figure at 0x7fcbbf072748>"
            ]
          },
          "metadata": {
            "tags": []
          }
        }
      ]
    },
    {
      "metadata": {
        "id": "Yu4QHXTSX1Bz",
        "colab_type": "code",
        "colab": {}
      },
      "cell_type": "code",
      "source": [
        ""
      ],
      "execution_count": 0,
      "outputs": []
    }
  ]
}